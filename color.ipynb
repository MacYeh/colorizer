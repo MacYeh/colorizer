{
 "cells": [
  {
   "cell_type": "code",
   "execution_count": 1,
   "metadata": {},
   "outputs": [
    {
     "name": "stderr",
     "output_type": "stream",
     "text": [
      "C:\\Users\\hohsiny\\AppData\\Local\\Continuum\\anaconda3\\lib\\site-packages\\h5py\\__init__.py:36: FutureWarning: Conversion of the second argument of issubdtype from `float` to `np.floating` is deprecated. In future, it will be treated as `np.float64 == np.dtype(float).type`.\n",
      "  from ._conv import register_converters as _register_converters\n",
      "Using TensorFlow backend.\n"
     ]
    }
   ],
   "source": [
    "from keras.layers import Input, Dense, Flatten, Reshape, Conv2D, UpSampling2D, MaxPooling2D\n",
    "from keras.models import Model, Sequential\n",
    "from keras.datasets import mnist\n",
    "from keras.callbacks import Callback\n",
    "import random\n",
    "import glob\n",
    "import wandb\n",
    "from wandb.keras import WandbCallback"
   ]
  },
  {
   "cell_type": "code",
   "execution_count": 3,
   "metadata": {},
   "outputs": [
    {
     "name": "stderr",
     "output_type": "stream",
     "text": [
      "wandb: ERROR: Headless mode isn't supported on Windows. If you want to use W&B, please use \"wandb run ...\"; running normally.\n"
     ]
    }
   ],
   "source": [
    "import subprocess\n",
    "import os\n",
    "from PIL import Image\n",
    "import numpy as np\n",
    "import cv2\n",
    "\n",
    "run = wandb.init()\n",
    "config = run.config\n",
    "\n",
    "config.num_epochs = 1\n",
    "config.batch_size = 4\n",
    "config.img_dir = \"images\"\n",
    "config.height = 256\n",
    "config.width = 256\n",
    "\n",
    "val_dir = 'test'\n",
    "train_dir = 'train'"
   ]
  },
  {
   "cell_type": "code",
   "execution_count": 6,
   "metadata": {},
   "outputs": [],
   "source": [
    "# automatically get the data if it doesn't exist\n",
    "if not os.path.exists(\"train\"):\n",
    "    print(\"Downloading flower dataset...\")\n",
    "    subprocess.check_output(\"curl https://storage.googleapis.com/l2kzone/flowers.tar | tar xz\", shell=True)\n",
    "\n",
    "def my_generator(batch_size, img_dir):\n",
    "    \"\"\"A generator that returns black and white images and color images\"\"\"\n",
    "    image_filenames = glob.glob(img_dir + \"\\*\")\n",
    "    counter = 0\n",
    "    while True:\n",
    "        bw_images = np.zeros((batch_size, config.width, config.height))\n",
    "        color_images = np.zeros((batch_size, config.width, config.height, 3))\n",
    "        random.shuffle(image_filenames) \n",
    "        if ((counter+1)*batch_size>=len(image_filenames)):\n",
    "              counter = 0\n",
    "        for i in range(batch_size):\n",
    "              img = Image.open(image_filenames[counter + i]).resize((config.width, config.height))\n",
    "              color_images[i] = np.array(img)\n",
    "              bw_images[i] = np.array(img.convert('L'))\n",
    "        yield (bw_images, color_images)\n",
    "        counter += batch_size "
   ]
  },
  {
   "cell_type": "code",
   "execution_count": 7,
   "metadata": {},
   "outputs": [],
   "source": [
    "(test_bw_images, test_color_images) = next(my_generator(145, train_dir))"
   ]
  },
  {
   "cell_type": "code",
   "execution_count": 9,
   "metadata": {},
   "outputs": [
    {
     "data": {
      "text/plain": [
       "(145, 256, 256)"
      ]
     },
     "execution_count": 9,
     "metadata": {},
     "output_type": "execute_result"
    }
   ],
   "source": [
    "test_bw_images.shape"
   ]
  },
  {
   "cell_type": "code",
   "execution_count": 10,
   "metadata": {},
   "outputs": [
    {
     "data": {
      "text/plain": [
       "(145, 256, 256, 3)"
      ]
     },
     "execution_count": 10,
     "metadata": {},
     "output_type": "execute_result"
    }
   ],
   "source": [
    "test_color_images.shape"
   ]
  },
  {
   "cell_type": "code",
   "execution_count": null,
   "metadata": {},
   "outputs": [],
   "source": []
  }
 ],
 "metadata": {
  "kernelspec": {
   "display_name": "Python 3",
   "language": "python",
   "name": "python3"
  },
  "language_info": {
   "codemirror_mode": {
    "name": "ipython",
    "version": 3
   },
   "file_extension": ".py",
   "mimetype": "text/x-python",
   "name": "python",
   "nbconvert_exporter": "python",
   "pygments_lexer": "ipython3",
   "version": "3.6.4"
  }
 },
 "nbformat": 4,
 "nbformat_minor": 2
}
